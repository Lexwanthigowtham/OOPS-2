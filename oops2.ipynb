{
 "cells": [
  {
   "cell_type": "markdown",
   "id": "2697069c-a7a1-40f6-aee5-b288d1241407",
   "metadata": {},
   "source": [
    "# OOPS 2"
   ]
  },
  {
   "cell_type": "code",
   "execution_count": null,
   "id": "b519ce3f-0224-4523-914f-1170336a73ce",
   "metadata": {},
   "outputs": [],
   "source": [
    "#1.CONSTRUCTOR\n",
    "'''Constructors are generally used for instantiating an object. The task of constructors is to initialize(assign values) \n",
    "to the data members of the class when an object of the class is created. \n",
    "In Python the __init__() method is called the constructor and is always called when an object is created.'''"
   ]
  },
  {
   "cell_type": "code",
   "execution_count": null,
   "id": "710db6cb-9d48-42b6-97f9-52eced78bcfc",
   "metadata": {},
   "outputs": [],
   "source": [
    "#2.What is the difference between default constructor and parameterized constructor in Python?\n",
    "\n",
    "'''The default constructor is basically used when the programmer does not use any constructors in the class, it initializes the objects.\n",
    "It is automatically done by the Python language. The parameterized constructor is nothing but a constructor with multiple parameters.\n",
    "Here also the __init ( )__ method is used to call the constructor.'''"
   ]
  },
  {
   "cell_type": "code",
   "execution_count": 2,
   "id": "c64021d1-5191-42b2-8cdd-3c06330afb68",
   "metadata": {},
   "outputs": [
    {
     "data": {
      "text/plain": [
       "'Class constructors are a fundamental part of object-oriented programming in Python. \\nThey allow you to create and properly initialize objects of a given class, making those objects ready to use. \\nClass constructors internally trigger Python’s instantiation process, which runs through two main steps: instance creation and instance initialization.'"
      ]
     },
     "execution_count": 2,
     "metadata": {},
     "output_type": "execute_result"
    }
   ],
   "source": [
    "#3.DEFINE CONSTRUCTOR\n",
    "'''Class constructors are a fundamental part of object-oriented programming in Python. \n",
    "They allow you to create and properly initialize objects of a given class, making those objects ready to use. \n",
    "Class constructors internally trigger Python’s instantiation process, which runs through two main steps: instance creation and instance initialization.'''\n"
   ]
  },
  {
   "cell_type": "code",
   "execution_count": null,
   "id": "d6e608f1-8f85-4236-9326-c0e586beb8da",
   "metadata": {},
   "outputs": [],
   "source": [
    "#4.__init__\n",
    "'''The Default __init__ Constructor in C++ and Java. Constructors are used to initializing the object’s state. \n",
    "The task of constructors is to initialize(assign values) to the data members of the class when an object of the class is created. \n",
    "Like methods, a constructor also contains a collection of statements(i.e. instructions) that are executed at the time of Object creation.\n",
    "It is run as soon as an object of a class is instantiated. \n",
    "The method is useful to do any initialization you want to do with your object.'''\n"
   ]
  },
  {
   "cell_type": "code",
   "execution_count": 5,
   "id": "aaabf5d4-2e6c-4339-8253-47eaead81723",
   "metadata": {},
   "outputs": [],
   "source": [
    "#5.person\n",
    "class person:\n",
    "    def __init__(self,name,age):\n",
    "        self.name_of_person=name\n",
    "        self.age_of_person=age\n",
    "    def extract_details(self):\n",
    "        print(self.name_of_person,self.age_of_person)\n",
    "    \n",
    "    "
   ]
  },
  {
   "cell_type": "code",
   "execution_count": 10,
   "id": "7c87572d-ce7a-4a06-bb49-e318a46faf70",
   "metadata": {},
   "outputs": [],
   "source": [
    "a=person('divya','23')\n",
    "b=person('keerthi','45')"
   ]
  },
  {
   "cell_type": "code",
   "execution_count": 14,
   "id": "94b7700c-e687-4712-929d-a875b68ee2ca",
   "metadata": {},
   "outputs": [
    {
     "name": "stdout",
     "output_type": "stream",
     "text": [
      "divya\n",
      "45\n"
     ]
    }
   ],
   "source": [
    "print(a.name_of_person)\n",
    "print(b.age_of_person)"
   ]
  },
  {
   "cell_type": "code",
   "execution_count": 15,
   "id": "75d209e2-5454-4d14-87cd-0a2bc7281ba1",
   "metadata": {},
   "outputs": [
    {
     "data": {
      "text/plain": [
       "'Constructors are generally used for instantiating an object. \\nThe task of constructors is to initialize(assign values) to the data members of the class when an object of the class is created. \\nIn Python the __init__() method is called the constructor and is always called when an object is created.\\nSyntax of constructor declaration \\n\\ndef __init__(self):\\n    # body of the constructor'"
      ]
     },
     "execution_count": 15,
     "metadata": {},
     "output_type": "execute_result"
    }
   ],
   "source": [
    "#6.CONSTRUCTOR\n",
    "'''Constructors are generally used for instantiating an object. \n",
    "The task of constructors is to initialize(assign values) to the data members of the class when an object of the class is created. \n",
    "In Python the __init__() method is called the constructor and is always called when an object is created.\n",
    "Syntax of constructor declaration \n",
    "\n",
    "def __init__(self):\n",
    "    # body of the constructor'''"
   ]
  },
  {
   "cell_type": "code",
   "execution_count": 19,
   "id": "a3fd0278-2f4d-4de0-8c0c-4dd1c78f48f9",
   "metadata": {},
   "outputs": [
    {
     "name": "stdout",
     "output_type": "stream",
     "text": [
      "17\n"
     ]
    }
   ],
   "source": [
    "#7.SELF\n",
    "'''When working with classes in Python, the term “self” refers to the instance of the class that is currently being used. \n",
    "It is customary to use “self” as the first parameter in instance methods of a class.\n",
    "Whenever you call a method of an object created from a class, the object is automatically passed as the first argument using the “self” parameter. \n",
    "This enables you to modify the object’s properties and execute tasks unique to that particular instance.'''\n",
    "\n",
    "\n",
    "class mynumber:\n",
    "    def __init__(self, value):\n",
    "        self.value = value\n",
    "     \n",
    "    def print_value(self):\n",
    "        print(self.value)\n",
    "        \n",
    "obj1= mynumber(17)\n",
    "obj1.print_value()\n"
   ]
  },
  {
   "cell_type": "code",
   "execution_count": null,
   "id": "4357c6fd-2a69-47df-9fc7-80c63020d2b1",
   "metadata": {},
   "outputs": [],
   "source": [
    "#8.DEFAULT CONSTRUCTOR\n",
    "'''The Python default constructor is a simple constructor which doesn’t accept any arguments.\n",
    "Its definition has only one argument which is a reference to the instance being constructed. \n",
    "A constructor is a method with always has a name init and the name init is prefixed and suffixed with\n",
    "a double underscore (__).'''\n"
   ]
  },
  {
   "cell_type": "code",
   "execution_count": 1,
   "id": "5a6604be-cd0d-4f8e-ae9f-25f2e0316900",
   "metadata": {},
   "outputs": [
    {
     "name": "stdout",
     "output_type": "stream",
     "text": [
      "area 8\n"
     ]
    }
   ],
   "source": [
    "#9. Create a Python class called `Rectangle` with a constructor that initializes the `width` and `height`\n",
    "#attributes. Provide a method to calculate the area of the rectangle.\n",
    "class rectangle:\n",
    "    def __init__(self,length,width,height):\n",
    "        self.rec_length=length\n",
    "        self.rec_width=width\n",
    "        self.rec_heigth=height\n",
    "        area=length*width\n",
    "    def area(self,area):\n",
    "        print('area',area)       \n",
    "        \n",
    "\n",
    "a=rectangle(2,4,6)\n",
    "a.area(2*4)"
   ]
  },
  {
   "cell_type": "code",
   "execution_count": 2,
   "id": "60229b2f-7300-4dfb-a776-0c3a03b619d7",
   "metadata": {},
   "outputs": [
    {
     "name": "stdout",
     "output_type": "stream",
     "text": [
      "Three\n"
     ]
    }
   ],
   "source": [
    "#10.\n",
    "'''Python does not support explicit multiple constructors, yet there are some ways using which multiple constructors can be achieved. \n",
    "If multiple __init__ methods are written for the same class, \n",
    "then the latest one overwrites all the previous constructors and the reason for this can be, \n",
    "python stores all the function names in a class as key in a dictionary so, when a new function is defined with the same name,\n",
    "the key remains the same but the value gets overridden by the new function body.'''\n",
    "\n",
    "class example:\n",
    " \n",
    "    def __init__(self):\n",
    "        print(\"One\")\n",
    " \n",
    "    def __init__(self):\n",
    "        print(\"Two\")\n",
    " \n",
    "    def __init__(self):\n",
    "        print(\"Three\")\n",
    " \n",
    " \n",
    "e = example()"
   ]
  },
  {
   "cell_type": "code",
   "execution_count": null,
   "id": "6b1d1363-5de6-4ed0-91f9-6eea192fc04d",
   "metadata": {},
   "outputs": [],
   "source": [
    "#11.overloading\n",
    "'''Two or more methods have the same name but different numbers of parameters or different types of parameters, or both.\n",
    "These methods are called overloaded methods and this is called method overloading. '''\n"
   ]
  },
  {
   "cell_type": "code",
   "execution_count": 3,
   "id": "06ed6809-b25c-4a04-b118-0f824effc6a7",
   "metadata": {},
   "outputs": [
    {
     "name": "stdout",
     "output_type": "stream",
     "text": [
      "The ID is: 103\n",
      "The Name is: Suraj kr gupta\n",
      "The Address is: Noida\n",
      "The Emails is: KKK@gmails\n"
     ]
    }
   ],
   "source": [
    "#12.super()\n",
    "'''In Python, the super() function is used to refer to the parent class or superclass. \n",
    "It allows you to call methods defined in the superclass from the subclass, \n",
    "enabling you to extend and customize the functionality inherited from the parent class.'''\n",
    "'''In the given example, The Emp class has an __init__ method that initializes the id, and name and Adds attributes. \n",
    "The Freelance class inherits from the Emp class and adds an additional attribute called Emails.\n",
    "It calls the parent class’s __init__ method super() to initialize the inherited attribute.'''\n",
    "\n",
    "\n",
    "class Emp():\n",
    "    def __init__(self, id, name, Add):\n",
    "        self.id = id\n",
    "        self.name = name\n",
    "        self.Add = Add\n",
    " \n",
    "# Class freelancer inherits EMP\n",
    "class Freelance(Emp):\n",
    "    def __init__(self, id, name, Add, Emails):\n",
    "        super().__init__(id, name, Add)\n",
    "        self.Emails = Emails\n",
    " \n",
    "Emp_1 = Freelance(103, \"Suraj kr gupta\", \"Noida\" , \"KKK@gmails\")\n",
    "print('The ID is:', Emp_1.id)\n",
    "print('The Name is:', Emp_1.name)\n",
    "print('The Address is:', Emp_1.Add)\n",
    "print('The Emails is:', Emp_1.Emails)"
   ]
  },
  {
   "cell_type": "code",
   "execution_count": 15,
   "id": "6a9e3f35-7723-4f37-b8c1-ab533cd5827a",
   "metadata": {},
   "outputs": [],
   "source": [
    "#13.Create a class called `Book` with a constructor that initializes the `title`, `author`, and `published_year`\n",
    "#attributes. Provide a method to display book details.\n",
    "\n",
    "class book():\n",
    "    def __init__(self,title,author,published_year):\n",
    "        self.title=title\n",
    "        self.author=author\n",
    "        self.published_year=published_year\n",
    "    def display(self,title):\n",
    "        print('displayed book details',display)      "
   ]
  },
  {
   "cell_type": "code",
   "execution_count": 18,
   "id": "ebe7b9bc-17f3-42c8-9a6b-630a89138808",
   "metadata": {},
   "outputs": [
    {
     "data": {
      "text/plain": [
       "'DSA'"
      ]
     },
     "execution_count": 18,
     "metadata": {},
     "output_type": "execute_result"
    }
   ],
   "source": [
    "lebina=book('DSA','SUDH','2020')\n",
    "lebina.title"
   ]
  },
  {
   "cell_type": "code",
   "execution_count": null,
   "id": "db82d02a-8e9a-40bb-8ae8-5de1c1e647a1",
   "metadata": {},
   "outputs": [],
   "source": [
    "#14.method vs constructoe\n",
    "'''These classes consist of both constructors and methods.\n",
    "Methods and Constructors are different from each other in a lot of ways.\n",
    "Constructors: Constructors are used to initialize the object’s state. Like methods, \n",
    "a constructor also contains collection of statements (i.e. instructions) that are executed at time of Object creation.'''\n"
   ]
  },
  {
   "cell_type": "code",
   "execution_count": null,
   "id": "2a3de121-6ec2-416b-9bc4-d09c24ab7819",
   "metadata": {},
   "outputs": [],
   "source": [
    "#15.SELF\n",
    "'''I know that self refers to the specific instance of MyClass. \n",
    "But why must func explicitly include self as a parameter? Why do we need to use self in the method's code? \n",
    "Some other languages make this implicit, or use special syntax instead.'''\n",
    "\n",
    "\n"
   ]
  },
  {
   "cell_type": "code",
   "execution_count": null,
   "id": "592f67e6-b880-4184-8ba6-9e861a72fc7c",
   "metadata": {},
   "outputs": [],
   "source": [
    "#16.\n",
    "'''Writing Python classes with multiple constructors can make your code more versatile and flexible, covering a wide range of use cases.\n",
    "Multiple constructors are a powerful feature that allows you to build instances of the underlying class using arguments of different types,\n",
    "a different number of arguments, or both, depending on your needs.'''"
   ]
  },
  {
   "cell_type": "code",
   "execution_count": 24,
   "id": "0df20019-fe27-4596-9792-092227607867",
   "metadata": {},
   "outputs": [
    {
     "name": "stdout",
     "output_type": "stream",
     "text": [
      "ENGLISH TAMIL MATHS these three are our subject attributes\n"
     ]
    }
   ],
   "source": [
    "'''17. Create a Python class called `Student` with a constructor that takes a list of subjects as a parameter and\n",
    "initializes the `subjects` attribute.'''\n",
    "\n",
    "class student():\n",
    "    def __init__(self,sub1,sub2,sub3):\n",
    "        print(sub1,sub2,sub3,'these three are our subject attributes')\n",
    "        \n",
    "lex=student('ENGLISH','TAMIL','MATHS')"
   ]
  },
  {
   "cell_type": "code",
   "execution_count": null,
   "id": "64f8837d-3332-4a8a-a5bf-1c1f538cf2ba",
   "metadata": {},
   "outputs": [],
   "source": [
    "#18.__del__\n",
    "'''In Python, the garbage collector manages memory automatically. The garbage collector will destroy the objects that are not referenced.\n",
    "\n",
    "If an object implements the __del__ method, Python calls the __del__ method right before the garbage collector destroys the object.\n",
    "\n",
    "However, the garbage collector determines when to destroy the object. Therefore, it determines when the __del__ method will be called.\n",
    "\n",
    "The __del__ is sometimes referred to as a class finalizer.\n",
    "Note that __del__ is not the destructor because the garbage collector destroys the object, not the __del__ method'''"
   ]
  },
  {
   "cell_type": "code",
   "execution_count": null,
   "id": "fa1bf9af-a770-479e-943c-5f597b5e3adb",
   "metadata": {},
   "outputs": [],
   "source": [
    "#19.constructor chain\n",
    "'''In Python, constructor chaining is convenient when we are dealing with inheritance.\n",
    "When an instance of a child class is initialized, the constructors of all the parent classes are first invoked and then, \n",
    "in the end, the constructor of the child class is invoked. \n",
    "Using the super()method we can invoke the parent class constructor from a child class.'''"
   ]
  },
  {
   "cell_type": "code",
   "execution_count": 28,
   "id": "26177176-770d-4815-b640-2f94040b72b7",
   "metadata": {},
   "outputs": [
    {
     "name": "stdout",
     "output_type": "stream",
     "text": [
      "with comfort seat to make my car more comfort\n",
      "audi this is the new arrival\n"
     ]
    }
   ],
   "source": [
    "#20. Create a Python class called `Car` with a default constructor that initializes the `make` and `model`\n",
    "#attributes. Provide a method to display car information.\n",
    "\n",
    "class car():\n",
    "    def __init__(self,make,model):\n",
    "        self.make_of_car=make\n",
    "        self.model_of_car=model\n",
    "        pass\n",
    "    def display_make(self,make_of_car):\n",
    "        print(make_of_car,'to make my car more comfort')\n",
    "    def display_model(self,model_of_car):\n",
    "        print(model_of_car,'this is the new arrival')\n",
    "    \n",
    "yudh=car('make with comfort seatleather','model of audi')\n",
    "yudh.display_make('with comfort seat')\n",
    "yudh.display_model('audi')"
   ]
  },
  {
   "cell_type": "markdown",
   "id": "9d80014b-638f-49f7-881a-e288cceb5be6",
   "metadata": {},
   "source": [
    "# INHERITANCE"
   ]
  },
  {
   "cell_type": "code",
   "execution_count": null,
   "id": "2a6c20cc-174e-4008-8ec3-5c51eafab0bc",
   "metadata": {},
   "outputs": [],
   "source": [
    "#1.INHERITANCE\n",
    "'''One of the core concepts in object-oriented programming (OOP) languages is inheritance.\n",
    "It is a mechanism that allows you to create a hierarchy of classes that share a set of properties and methods by deriving a class from another class. \n",
    "Inheritance is the capability of one class to derive or inherit the properties from another class.'''"
   ]
  },
  {
   "cell_type": "code",
   "execution_count": 2,
   "id": "67d056a1-01f3-419b-acfb-388faf331454",
   "metadata": {},
   "outputs": [
    {
     "name": "stdout",
     "output_type": "stream",
     "text": [
      "Satyam 102\n",
      "Base1\n",
      "Base2\n",
      "Derived\n",
      "Geek1 Geek2\n"
     ]
    }
   ],
   "source": [
    "#2.single vs multiple inheritence\n",
    "'''Single inheritance: When a child class inherits from only one parent class, it is called single inheritance.\n",
    "Multiple inheritances: When a child class inherits from multiple parent classes, it is called multiple inheritances. '''\n",
    "#single inheritence example:\n",
    "\n",
    "\n",
    "# A Python program to demonstrate inheritance\n",
    "class Person(object):\n",
    "   \n",
    "  # Constructor\n",
    "  def __init__(self, name, id):\n",
    "    self.name = name\n",
    "    self.id = id\n",
    " \n",
    "  # To check if this person is an employee\n",
    "  def Display(self):\n",
    "    print(self.name, self.id)\n",
    " \n",
    " \n",
    "# Driver code\n",
    "emp = Person(\"Satyam\", 102) # An Object of Person\n",
    "emp.Display()\n",
    "\n",
    "\n",
    "\n",
    "\n",
    "\n",
    "# Python example to show the working of multiple\n",
    "# inheritance\n",
    " \n",
    "class Base1(object):\n",
    "    def __init__(self):\n",
    "        self.str1 = \"Geek1\"\n",
    "        print(\"Base1\")\n",
    " \n",
    " \n",
    "class Base2(object):\n",
    "    def __init__(self):\n",
    "        self.str2 = \"Geek2\"\n",
    "        print(\"Base2\")\n",
    " \n",
    " \n",
    "class Derived(Base1, Base2):\n",
    "    def __init__(self):\n",
    " \n",
    "        # Calling constructors of Base1\n",
    "        # and Base2 classes\n",
    "        Base1.__init__(self)\n",
    "        Base2.__init__(self)\n",
    "        print(\"Derived\")\n",
    " \n",
    "    def printStrs(self):\n",
    "        print(self.str1, self.str2)\n",
    " \n",
    " \n",
    "ob = Derived()\n",
    "ob.printStrs()\n",
    "    "
   ]
  },
  {
   "cell_type": "code",
   "execution_count": 23,
   "id": "9107b41f-428b-4a39-a768-5a0a583fc83f",
   "metadata": {},
   "outputs": [
    {
     "name": "stdout",
     "output_type": "stream",
     "text": [
      "this is awsome model with super red color having 80 speed\n",
      "new brand AUDI\n"
     ]
    }
   ],
   "source": [
    "#3.Create a Python class called `Vehicle` with attributes `color` and `speed`. Then, create a child class called\n",
    "#`Car` that inherits from `Vehicle` and adds a `brand` attribute. Provide an example of creating a `Car` object.\n",
    "\n",
    "class vehicle:\n",
    "    def __init__(self,color,speed):\n",
    "        self.color_of_veh=color\n",
    "        self.speed_of_veh=speed\n",
    "        print('this is awsome model with super',color,'having',speed,'speed')\n",
    "class car(vehicle):\n",
    "    def __init__(self,color,speed,brand):\n",
    "        self.brand_of_car=brand\n",
    "        vehicle.__init__(self,color,speed)\n",
    "        print('new brand',brand)\n",
    "        \n",
    "p1=car('red color','80','AUDI')"
   ]
  },
  {
   "cell_type": "code",
   "execution_count": 24,
   "id": "8893044f-eac3-4108-864f-7d322d5ff402",
   "metadata": {},
   "outputs": [
    {
     "name": "stdout",
     "output_type": "stream",
     "text": [
      "Inside Parent\n",
      "Inside Child\n"
     ]
    }
   ],
   "source": [
    "#4.overridding\n",
    "'''Method overriding is an ability of any object-oriented programming language that allows a subclass or child class \n",
    "to provide a specific implementation of a method that is already provided by one of its super-classes or parent classes.\n",
    "When a method in a subclass has the same name, same parameters or signature and same return type(or sub-type) as a method in its super-class,\n",
    "then the method in the subclass is said to override \n",
    "the method in the super-class.'''\n",
    "\n",
    "#example\n",
    "\n",
    "\n",
    "# Python program to demonstrate  \n",
    "# method overriding \n",
    "  \n",
    "  \n",
    "# Defining parent class \n",
    "class Parent(): \n",
    "      \n",
    "    # Constructor \n",
    "    def __init__(self): \n",
    "        self.value = \"Inside Parent\"\n",
    "          \n",
    "    # Parent's show method \n",
    "    def show(self): \n",
    "        print(self.value) \n",
    "          \n",
    "# Defining child class \n",
    "class Child(Parent): \n",
    "      \n",
    "    # Constructor \n",
    "    def __init__(self): \n",
    "        self.value = \"Inside Child\"\n",
    "          \n",
    "    # Child's show method \n",
    "    def show(self): \n",
    "        print(self.value) \n",
    "          \n",
    "          \n",
    "# Driver's code \n",
    "obj1 = Parent() \n",
    "obj2 = Child() \n",
    "  \n",
    "obj1.show() \n",
    "obj2.show() "
   ]
  },
  {
   "cell_type": "code",
   "execution_count": 1,
   "id": "de2b5872-4eb6-4cb3-a374-66b2b2c8051a",
   "metadata": {},
   "outputs": [
    {
     "name": "stdout",
     "output_type": "stream",
     "text": [
      "COE\n",
      "COE\n",
      "SHIVAM\n",
      "SACHIN\n",
      "3425\n",
      "3624\n",
      "COE\n"
     ]
    }
   ],
   "source": [
    "'''5.A class is a user-defined blueprint or prototype from which objects are created.\n",
    "Classes provide a means of bundling data and functionality together. Creating a new class creates a new type of object, \n",
    "allowing new instances of that type to be made. Each class instance can have attributes attached to it for maintaining its state. \n",
    "Class instances can also have methods (defined by its class) for modifying its state.'''\n",
    "\n",
    "#example:\n",
    "# Python program to demonstrate \n",
    "# classes and objects \n",
    "  \n",
    "  \n",
    "# Creating a class  \n",
    "class Student: \n",
    "      \n",
    "    # Class Variable \n",
    "    stream = 'COE'\n",
    "      \n",
    "    def __init__(self, name, roll_no): \n",
    "  \n",
    "        # Instance Variable \n",
    "        self.name = name  \n",
    "        self.roll_no = roll_no  \n",
    "  \n",
    "# Objects of Student class  \n",
    "a = Student('SHIVAM', 3425)  \n",
    "b = Student('SACHIN', 3624) \n",
    "  \n",
    "print(a.stream) \n",
    "print(b.stream) \n",
    "print(a.name) \n",
    "print(b.name) \n",
    "print(a.roll_no)  \n",
    "print(b.roll_no) \n",
    "  \n",
    "# Class variables can be  \n",
    "# accessed using class  \n",
    "# name also  \n",
    "print(Student.stream) "
   ]
  },
  {
   "cell_type": "code",
   "execution_count": 5,
   "id": "786bf911-e620-4835-9e34-db9f30995c6f",
   "metadata": {},
   "outputs": [
    {
     "name": "stdout",
     "output_type": "stream",
     "text": [
      "Parent class doing something.\n",
      "Child class doing something.\n"
     ]
    }
   ],
   "source": [
    "'''6.python super()\n",
    "In the given example, The Emp class has an __init__ method that initializes the id, and name and Adds attributes. \n",
    "The Freelance class inherits from the Emp class and adds an additional attribute called Emails. \n",
    "It calls the parent class’s __init__ method super() to initialize the inherited attribute.'''\n",
    "\n",
    "class MyParentClass:\n",
    "    def do_something(self):\n",
    "        print(\"Parent class doing something.\")\n",
    "\n",
    "class MyChildClass(MyParentClass):\n",
    "    def do_something(self):\n",
    "        super().do_something()\n",
    "        print(\"Child class doing something.\")\n",
    "        \n",
    "child = MyChildClass()\n",
    "child.do_something()"
   ]
  },
  {
   "cell_type": "code",
   "execution_count": 18,
   "id": "76bdcecb-4e65-44f9-b520-7f23a81a0ca7",
   "metadata": {},
   "outputs": [
    {
     "name": "stdout",
     "output_type": "stream",
     "text": [
      "these are animals says\n"
     ]
    },
    {
     "data": {
      "text/plain": [
       "'bow'"
      ]
     },
     "execution_count": 18,
     "metadata": {},
     "output_type": "execute_result"
    }
   ],
   "source": [
    "'''7.Create a Python class called `Animal` with a method `speak()`. \n",
    "Then, create child classes `Dog` and `Cat` that inherite from animal and override the speak()method.'''\n",
    "class animal:\n",
    "    def __init__(self,dog,cat):\n",
    "        self.dog=dog\n",
    "        self.cat=cat\n",
    "        print('these are animals says')\n",
    "class dog(animal):\n",
    "    def __init__(self,dog_speak):\n",
    "        self.speak=dog_speak\n",
    "        animal.__init__(self,dog,cat)\n",
    "        print('dog says',dog)\n",
    "class cat(animal):\n",
    "    def __init__(self,cat_speak):\n",
    "        self.speak=cat_speak\n",
    "        animal.__init__(self,dog,cat)\n",
    "        print('cat says',cat)\n",
    "\n",
    "a=animal('bow','meow')\n",
    "a.dog\n"
   ]
  },
  {
   "cell_type": "code",
   "execution_count": null,
   "id": "325b1f8a-4607-4f11-a179-6a5056bb3aa9",
   "metadata": {},
   "outputs": [],
   "source": [
    "'''8.he isinstance() function returns True if the specified object is of the specified type, otherwise False.\n",
    "\n",
    "If the type parameter is a tuple, this function will return True if the object is one of the types in the tuple.'''\n",
    "\n"
   ]
  },
  {
   "cell_type": "code",
   "execution_count": 19,
   "id": "38822c08-52bf-48e3-8f57-0c40e40e3b73",
   "metadata": {},
   "outputs": [
    {
     "data": {
      "text/plain": [
       "'9.Python issubclass() is built-in function used to check if a class is a subclass of another class or not. This function returns \\nTrue if the given class is the subclass of given class else it returns False.'"
      ]
     },
     "execution_count": 19,
     "metadata": {},
     "output_type": "execute_result"
    }
   ],
   "source": [
    "'''9.Python issubclass() is built-in function used to check if a class is a subclass of another class or not. This function returns \n",
    "True if the given class is the subclass of given class else it returns False.'''"
   ]
  },
  {
   "cell_type": "code",
   "execution_count": null,
   "id": "e2810dcc-2f3f-4a2d-8ed6-65d4393aef4d",
   "metadata": {},
   "outputs": [],
   "source": [
    "'''10.One of the core concepts in object-oriented programming (OOP) languages is inheritance. \n",
    "It is a mechanism that allows you to create a hierarchy of classes that share a set of properties and methods by \n",
    "deriving a class from another class.\n",
    "Inheritance is the capability of one class to derive or inherit the properties from another class. '''"
   ]
  },
  {
   "cell_type": "code",
   "execution_count": 31,
   "id": "cc9e67f8-83ee-4845-9923-f1f0a409923e",
   "metadata": {},
   "outputs": [
    {
     "name": "stdin",
     "output_type": "stream",
     "text": [
      "Enter the radius of a circle: 9\n"
     ]
    },
    {
     "name": "stdout",
     "output_type": "stream",
     "text": [
      "Area of a circle = 254.34\n",
      "area of rectangle 56\n"
     ]
    }
   ],
   "source": [
    "'''11.Create a Python class called `Shape` with a method `area()` that calculates the area of a shape. \n",
    "Then, create child classes `Circle` and `Rectangle` that inherit from `Shape` and implement the `area()` method\n",
    "accordingly. Provide an example.'''\n",
    "\n",
    "class shape():\n",
    "    def __init__(self,area):\n",
    "        pass\n",
    "class circle(shape):\n",
    "     pi = 3.14\n",
    "r = float(input(\"Enter the radius of a circle:\"))\n",
    "area =3.14*r*r\n",
    "print(\"Area of a circle = %.2f\" %area)\n",
    "class rectangle:\n",
    "    def __init__(self,length,width,height):\n",
    "        self.rec_length=length\n",
    "        self.rec_width=width\n",
    "        self.rec_heigth=height\n",
    "        area=length*width\n",
    "    def area(self,area):\n",
    "        print('area of rectangle',area)\n",
    "        \n",
    "p1=rectangle(7,8,9)\n",
    "p1.area(7*8)\n",
    "\n",
    "    "
   ]
  },
  {
   "cell_type": "code",
   "execution_count": null,
   "id": "4b7316d6-6bee-4918-84c2-bfe221de0065",
   "metadata": {},
   "outputs": [],
   "source": [
    "#12.ABSTRACT BASE CLASS\n",
    "'''The main goal of the abstract base class is to provide a standardized way to test whether an object adheres to a given specification. \n",
    "It can also prevent any attempt to instantiate a subclass that doesn’t override a particular method in the superclass. And finally,\n",
    "using an abstract class, a class can derive identity from another class without any object inheritance'''"
   ]
  },
  {
   "cell_type": "code",
   "execution_count": null,
   "id": "f416b89a-cb5d-4a99-ab37-c1c23f1a6102",
   "metadata": {},
   "outputs": [],
   "source": [
    "#13.\n",
    "\n",
    "'''Need some help to solve this puzzle folks:\n",
    "\n",
    "When creating a child class in Python and defining the init method, I would like to import all the attributes of \n",
    "the super/parent class except certain positional parameters and certain parameters (which are not defined inside \n",
    "                                                                                    parent classes' init method's list of positional or \n",
    "keyworded/non-keworded parameters but) defined within/inside the parent class init method with a default value.\n",
    "\n",
    "Is there a way to prevent/avoid certain/specific parent class attributes to be imported in the child class upon initiation? \n",
    "I am aware that we can override methods in the child class which do not mimic parent class behaviors,\n",
    "but I am not aware how to do the same with attributes, so I was thinking if I could avoid them completely!'''"
   ]
  },
  {
   "cell_type": "code",
   "execution_count": 2,
   "id": "dbe0af74-542a-4ab6-99ae-5ffd298b80ff",
   "metadata": {},
   "outputs": [
    {
     "name": "stdout",
     "output_type": "stream",
     "text": [
      "Id\t\t: 1\n",
      "Name\t: pankaj\n",
      "Gender\t: male\n",
      "City\t: delhi\n",
      "Salary\t: 55000\n"
     ]
    }
   ],
   "source": [
    "# employee class code in Python\n",
    "# class definition\n",
    "class Employee:\n",
    "    __id=0\n",
    "    __name=\"\"\n",
    "    __gender=\"\"\n",
    "    __city=\"\"\n",
    "    __salary=0\n",
    "\t\n",
    "\t# function to set data \n",
    "    def setData(self,id,name,gender,city,salary):\n",
    "        self.__id=id\n",
    "        self.__name = name\n",
    "        self.__gender = gender\n",
    "        self.__city = city\n",
    "        self.__salary = salary\n",
    "\t\n",
    "\t# function to get/print data\n",
    "    def showData(self):\n",
    "        print(\"Id\\t\\t:\",self.__id)\n",
    "        print(\"Name\\t:\", self.__name)\n",
    "        print(\"Gender\\t:\", self.__gender)\n",
    "        print(\"City\\t:\", self.__city)\n",
    "        print(\"Salary\\t:\", self.__salary)\n",
    "\n",
    "# main function definition\n",
    "def main():\n",
    "    #Employee Object\n",
    "    emp=Employee()\n",
    "    emp.setData(1,'pankaj','male','delhi',55000)\n",
    "    emp.showData()\n",
    "\t\n",
    "if __name__==\"__main__\":\n",
    "    main()\n"
   ]
  },
  {
   "cell_type": "code",
   "execution_count": null,
   "id": "94d45b15-7dfd-4d7b-99ed-90a00658d98b",
   "metadata": {},
   "outputs": [],
   "source": [
    "#15.overloading\n",
    "'''Method Overloading is defining two or more methods with the same name but different parameters. \n",
    "Python does not support method overloading. Method Overriding is redefining a parent class method in the derived class. \n",
    "Overriding requires inheritance for implementation.'''\n"
   ]
  },
  {
   "cell_type": "code",
   "execution_count": null,
   "id": "c5861721-fd6f-49f6-83d3-9dccf73c1110",
   "metadata": {},
   "outputs": [],
   "source": [
    "#16.\n",
    "'''Inheritance is the capability of one class to derive or inherit the properties from some other class. \n",
    "Let’s consider the below example to see how __init__ works in inheritance. So, the parent class constructor is called first.\n",
    "But in Python, it is not compulsory that the parent class constructor will always be called first.'''"
   ]
  },
  {
   "cell_type": "code",
   "execution_count": 5,
   "id": "c5f03188-fc98-40dd-a3ad-a1e083752fb5",
   "metadata": {},
   "outputs": [
    {
     "name": "stdout",
     "output_type": "stream",
     "text": [
      "kaka\n",
      "buck buck\n",
      "kaka\n",
      "buck buck\n"
     ]
    }
   ],
   "source": [
    "#17.\n",
    "class crow:\n",
    "  def say(self):\n",
    "    print (\"kaka\")\n",
    "\n",
    "class duck:\n",
    "  def say(self):\n",
    "    print (\"buck buck\")\n",
    "\n",
    "pet = crow()\n",
    "pet.say() # prints \"hau\"\n",
    "another_pet = duck()\n",
    "another_pet.say() # prints \"meow\"\n",
    "\n",
    "my_pets = [pet, another_pet]\n",
    "for a_pet in my_pets:\n",
    "  a_pet.say()"
   ]
  },
  {
   "cell_type": "code",
   "execution_count": null,
   "id": "57de494e-127e-43f2-8093-d7826f0a573c",
   "metadata": {},
   "outputs": [],
   "source": [
    "#18.diamond problem\n",
    "'''However, one pattern of inheritance in programming languages that resembles a\n",
    "diamond shape cause ambiguity in the call to the parent class method, which is popularly known as the diamond problem. \n",
    "In this tutorial, we will learn what actually the diamond problem is and how can we resolve it in Python. '''\n"
   ]
  },
  {
   "cell_type": "code",
   "execution_count": null,
   "id": "2559fae5-8243-4eae-b1e0-ffa4acab9eb0",
   "metadata": {},
   "outputs": [],
   "source": [
    "#19,\n",
    "'''When I design classes and have to choose between inheritance and composition,\n",
    "I usually use the rule of thumb: if the relationship is \"is-a\" - use inheritance, and if the relationship is \n",
    "\"has-a\" - use composition. Is it always right? Thank you. No - \"is a\" does not always lead to inheritence.'''\n"
   ]
  },
  {
   "cell_type": "code",
   "execution_count": 9,
   "id": "9f1f01e1-a335-4824-a394-984ba830621b",
   "metadata": {},
   "outputs": [],
   "source": [
    "#20.\n",
    "class Computer(object):\n",
    "    def __init__(self, name, cpu):\n",
    "        self.name = name\n",
    "        self.cpu = cpu\n",
    "\n",
    "class Laptop(Computer):\n",
    "    def __init__(self, name, cpu, manufacturer):\n",
    "        super(Laptop, self).__init__(name, cpu)\n",
    "        self.manufacturer = manufacturer\n",
    "\n",
    "class AutomatedTellerMachine(Computer):\n",
    "    def __init__(self, name, cpu, bank):\n",
    "        super(AutomatedTellerMachine, self).__init__(name, cpu)\n",
    "        self.bank = bank"
   ]
  },
  {
   "cell_type": "markdown",
   "id": "6928dc63-d360-4130-8b21-48da0849458d",
   "metadata": {},
   "source": [
    "# ENCAPSULATION"
   ]
  },
  {
   "cell_type": "code",
   "execution_count": null,
   "id": "19991d87-ba57-4ac9-b08c-1b6c0a2da856",
   "metadata": {},
   "outputs": [],
   "source": [
    "#1.\n",
    "'''Encapsulation in Python describes the concept of bundling data and methods within a single unit. \n",
    "So, for example, when you create a class, it means you are implementing encapsulation.\n",
    "A class is an example of encapsulation as it binds all the data members ( instance variables) and methods into a single unit.1.'''\n"
   ]
  },
  {
   "cell_type": "code",
   "execution_count": null,
   "id": "cb6030cd-0de1-4b5f-a766-971e1b06f0d5",
   "metadata": {},
   "outputs": [],
   "source": [
    "#2.\n",
    "'''Data Protection: Encapsulation protects the internal state of an object by keeping its data members private. \n",
    "Access to and modification of these data members is restricted to the class’s public methods, ensuring controlled and secure data manipulation'''"
   ]
  },
  {
   "cell_type": "code",
   "execution_count": 10,
   "id": "6f0fa49e-cec6-4d98-ad24-afab9b21f13a",
   "metadata": {},
   "outputs": [
    {
     "name": "stdout",
     "output_type": "stream",
     "text": [
      "Calling protected member of base class:  2\n",
      "Calling modified protected member outside class:  3\n",
      "Accessing protected member of obj1:  3\n",
      "Accessing protected member of obj2:  2\n"
     ]
    }
   ],
   "source": [
    "#3.\n",
    "# Python program to \n",
    "# demonstrate protected members \n",
    "  \n",
    "# Creating a base class \n",
    "class Base: \n",
    "    def __init__(self): \n",
    "  \n",
    "        # Protected member \n",
    "        self._a = 2\n",
    "  \n",
    "# Creating a derived class \n",
    "class Derived(Base): \n",
    "    def __init__(self): \n",
    "  \n",
    "        # Calling constructor of \n",
    "        # Base class \n",
    "        Base.__init__(self) \n",
    "        print(\"Calling protected member of base class: \",  \n",
    "              self._a) \n",
    "  \n",
    "        # Modify the protected variable: \n",
    "        self._a = 3\n",
    "        print(\"Calling modified protected member outside class: \", \n",
    "              self._a) \n",
    "  \n",
    "  \n",
    "obj1 = Derived() \n",
    "  \n",
    "obj2 = Base() \n",
    "  \n",
    "# Calling protected member \n",
    "# Can be accessed but should not be done due to convention \n",
    "print(\"Accessing protected member of obj1: \", obj1._a) \n",
    "  \n",
    "# Accessing the protected variable outside \n",
    "print(\"Accessing protected member of obj2: \", obj2._a)"
   ]
  },
  {
   "cell_type": "code",
   "execution_count": null,
   "id": "7dd1c415-a83e-41b5-bfe2-8e4418d76c02",
   "metadata": {},
   "outputs": [],
   "source": [
    "#4.\n",
    "'''Public Access Modifier:\n",
    "The members of a class that are declared public are easily accessible from any part of the program. \n",
    "All data members and member functions of a class are public by default\n",
    "\n",
    "Protected Access Modifier:\n",
    "The members of a class that are declared protected are only accessible to a class derived from it.\n",
    "Data members of a class are declared protected by adding a single underscore ‘_’ symbol before the data member of that class. \n",
    "\n",
    "Private Access Modifier:\n",
    "The members of a class that are declared private are accessible within the class only, private access modifier is the most secure access modifier. Data members of a class are declared private by adding a double underscore \n",
    "‘__’ symbol before the data member of that class. '''\n"
   ]
  },
  {
   "cell_type": "code",
   "execution_count": 11,
   "id": "331c56d4-7834-4702-82a8-1a7843db16ce",
   "metadata": {},
   "outputs": [
    {
     "name": "stdout",
     "output_type": "stream",
     "text": [
      "C\n",
      "D C\n",
      "C, D\n"
     ]
    }
   ],
   "source": [
    "#5.\n",
    "class Person:\n",
    "    def __init__(self, first_name, last_name):\n",
    "        self.first_name = first_name\n",
    "        self.last_name = last_name\n",
    "\n",
    "    @property\n",
    "    def full_name(self):\n",
    "        return f'{self.first_name} {self.last_name}'\n",
    "\n",
    "    @property\n",
    "    def name(self):\n",
    "        return f'{self.last_name}, {self.first_name}'\n",
    "\n",
    "teacher = Person('D', 'C')\n",
    "print(teacher.last_name)\n",
    "print(teacher.full_name)\n",
    "print(teacher.name)"
   ]
  },
  {
   "cell_type": "code",
   "execution_count": null,
   "id": "127cfdad-4998-40ad-bb95-8682b67fc869",
   "metadata": {},
   "outputs": [],
   "source": [
    "#6.\n",
    "'''Encapsulation is one of the fundamental concepts in object-oriented programming (OOP), \n",
    "including abstraction, inheritance, and polymorphism.\n",
    "This lesson will cover what encapsulation is and how to implement it in Python.'''"
   ]
  },
  {
   "cell_type": "code",
   "execution_count": null,
   "id": "ef6938bf-0477-40c2-9bba-e08a75a9a318",
   "metadata": {},
   "outputs": [],
   "source": [
    "#7.\n",
    "'''In name mangling process any identifier with two leading underscore and one trailing underscore is textually replaced \n",
    "with _classname__identifier where classname is the name of the current class. \n",
    "It means that any identifier of the form __LOS (at least two leading underscores or at most one\n",
    "                                                trailing underscore) is replaced with _classname__LOS, \n",
    "where classname is the current class name with leading underscore(s) stripped'''"
   ]
  },
  {
   "cell_type": "code",
   "execution_count": 15,
   "id": "78507682-ac7d-4a95-a0e0-f7f7f33dfd83",
   "metadata": {},
   "outputs": [
    {
     "name": "stdout",
     "output_type": "stream",
     "text": [
      "Hello!!! Welcome to the Deposit & Withdrawal Machine\n"
     ]
    },
    {
     "name": "stdin",
     "output_type": "stream",
     "text": [
      "Enter amount to be Deposited:  4000\n"
     ]
    },
    {
     "name": "stdout",
     "output_type": "stream",
     "text": [
      "\n",
      " Amount Deposited: 4000.0\n"
     ]
    },
    {
     "name": "stdin",
     "output_type": "stream",
     "text": [
      "Enter amount to be Withdrawn:  2000\n"
     ]
    },
    {
     "name": "stdout",
     "output_type": "stream",
     "text": [
      "\n",
      " You Withdrew: 2000.0\n",
      "\n",
      " Net Available Balance= 2000.0\n"
     ]
    }
   ],
   "source": [
    "\n",
    "\n",
    "# Python program to create Bankaccount class\n",
    "# with both a deposit() and a withdraw() function\n",
    "class Bank_Account:\n",
    "    def __init__(self):\n",
    "        self.balance=0\n",
    "        print(\"Hello!!! Welcome to the Deposit & Withdrawal Machine\")\n",
    " \n",
    "    def deposit(self):\n",
    "        amount=float(input(\"Enter amount to be Deposited: \"))\n",
    "        self.balance += amount\n",
    "        print(\"\\n Amount Deposited:\",amount)\n",
    " \n",
    "    def withdraw(self):\n",
    "        amount = float(input(\"Enter amount to be Withdrawn: \"))\n",
    "        if self.balance>=amount:\n",
    "            self.balance-=amount\n",
    "            print(\"\\n You Withdrew:\", amount)\n",
    "        else:\n",
    "            print(\"\\n Insufficient balance  \")\n",
    " \n",
    "    def display(self):\n",
    "        print(\"\\n Net Available Balance=\",self.balance)\n",
    " \n",
    "# Driver code\n",
    "  \n",
    "# creating an object of class\n",
    "s = Bank_Account()\n",
    "  \n",
    "# Calling functions with that class object\n",
    "s.deposit()\n",
    "s.withdraw()\n",
    "s.display()"
   ]
  },
  {
   "cell_type": "code",
   "execution_count": null,
   "id": "39bf4d0a-3410-4787-bcd4-c916034d2ccb",
   "metadata": {},
   "outputs": [],
   "source": [
    "#9.What are the advantages of encapsulation in Python?\n",
    "\n",
    "'''The advantages of encapsulation in Python include the following: Encapsulation helps to maintain the integrity of an object's\n",
    "data by preventing external modification. It reduces code complexity by hiding implementation details,\n",
    "making code easier to understand and maintain.'''"
   ]
  },
  {
   "cell_type": "code",
   "execution_count": null,
   "id": "a01f7165-b64a-4168-90e7-5e2cc32cd22e",
   "metadata": {},
   "outputs": [],
   "source": [
    "#10.What is a private attribute in Python?\n",
    "'''Python doesn’t have a concept of private attributes. In other words, all attributes are accessible from the outside of a class. \n",
    "By convention, you can define a private attribute by prefixing a single underscore (_): \n",
    "    This means that the _attribute should not be manipulated and may have a breaking change in the future'''"
   ]
  },
  {
   "cell_type": "code",
   "execution_count": 23,
   "id": "68a68ab6-9d57-47e7-aebd-167250ce24dd",
   "metadata": {},
   "outputs": [
    {
     "name": "stdout",
     "output_type": "stream",
     "text": [
      "My Computer, Intel\n"
     ]
    }
   ],
   "source": [
    "#11.\n",
    "class Computer(object):\n",
    "    def __init__(self, name, cpu):\n",
    "        self.name = name\n",
    "        self.cpu = cpu\n",
    "\n",
    "class CPU(object):\n",
    "    def __init__(self, manufacturer):\n",
    "        self.manufacturer = manufacturer\n",
    "\n",
    "intel_cpu = CPU('Intel')\n",
    "mycomputer = Computer('My Computer', intel_cpu)\n",
    "\n",
    "print (\"{}, {}\".format(mycomputer.name, mycomputer.cpu.manufacturer))"
   ]
  },
  {
   "cell_type": "code",
   "execution_count": null,
   "id": "551a1a15-28aa-4775-8947-9c2346eb1472",
   "metadata": {},
   "outputs": [],
   "source": [
    "#12.\n",
    "'''@property decorator is a built-in decorator in Python which is helpful in defining the properties effortlessly \n",
    "without manually calling the inbuilt function property(). Which is used to return the property attributes of a\n",
    "class from the stated getter, setter and deleter as parameters.\n",
    "Now, lets see some examples to illustrate the use of @property decorator in Python'''"
   ]
  },
  {
   "cell_type": "code",
   "execution_count": null,
   "id": "949b6676-91c1-43d3-9c67-8a0bd5b80787",
   "metadata": {},
   "outputs": [],
   "source": [
    "#13.What is data hiding in encapsulation?\n",
    "'''Data hiding, also known as information hiding, is a specific aspect of encapsulation that focuses on restricting \n",
    "direct access to internal data or implementation details of a class. \n",
    "-Data hiding helps enforce encapsulation and protects the integrity of the class's \n",
    "internal state by preventing unintended or unauthorized access to the data.'''"
   ]
  },
  {
   "cell_type": "code",
   "execution_count": 25,
   "id": "122c42dd-4a2b-4f76-a54a-d8ed4359e182",
   "metadata": {},
   "outputs": [
    {
     "name": "stdin",
     "output_type": "stream",
     "text": [
      "Enter the emp name:  bala\n",
      "Enter emp id:  lexibala@gmail.com\n",
      "Enter Dept:  it\n",
      "Enter Salary 600000\n"
     ]
    },
    {
     "name": "stdout",
     "output_type": "stream",
     "text": [
      "Emp Details\n",
      "Name:  bala\n",
      "Empid:  lexibala@gmail.com\n",
      "Dept:  it\n"
     ]
    },
    {
     "name": "stdin",
     "output_type": "stream",
     "text": [
      "Enter new salary:  1000000\n"
     ]
    },
    {
     "name": "stdout",
     "output_type": "stream",
     "text": [
      "Updated salary 1000000\n"
     ]
    }
   ],
   "source": [
    "#14.\n",
    "class Employee:\n",
    "    def __init__(self):\n",
    "        self.name=\"\"\n",
    "        self.empId=\"\"\n",
    "        self.dept=\"\"\n",
    "        self.salary=\"\"\n",
    "    def getEmpDetails(self):\n",
    "        self.name=input(\"Enter the emp name: \")\n",
    "        self.empId=input(\"Enter emp id: \")\n",
    "        self.dept=input(\"Enter Dept: \")\n",
    "        self.salary=input(\"Enter Salary\")\n",
    "    def showEmpDetails(self):\n",
    "        print(\"Emp Details\")\n",
    "        print(\"Name: \",self.name)\n",
    "        print(\"Empid: \",self.empId)\n",
    "        print(\"Dept: \",self.dept)\n",
    "    def updtSalary(self):\n",
    "        self.updtSalary=int(input(\"Enter new salary: \"))\n",
    "        print(\"Updated salary\", self.updtSalary)\n",
    "e1=Employee()\n",
    "e1.getEmpDetails()\n",
    "e1.showEmpDetails()\n",
    "e1.updtSalary()\n"
   ]
  },
  {
   "cell_type": "code",
   "execution_count": null,
   "id": "1ad83413-d299-473b-8cd4-8c5bdccc0fa7",
   "metadata": {},
   "outputs": [],
   "source": [
    "#15.\n",
    "'''Accessor and mutator methods are an essential part of encapsulation ,\n",
    "They allow you to control access to an object's state, ensuring that it is accessed and modified only through a controlled interface. \n",
    "By following the naming convention for accessor and mutator methods, we can make your code more readable and maintainable.'''"
   ]
  },
  {
   "cell_type": "code",
   "execution_count": null,
   "id": "5e17e5e8-8a62-442e-ba08-19c9eddeae26",
   "metadata": {},
   "outputs": [],
   "source": [
    "#!6.\n",
    "'''Increased code execution: Encapsulation results in an increase in the duration of the program execution. \n",
    "It is because more instructions are added to the code therefore they require more time to execute. \n",
    "So these were the advantages and disadvantages of encapsulation. Comment down below if you have any queries.'''"
   ]
  },
  {
   "cell_type": "code",
   "execution_count": 27,
   "id": "54b269c2-d6eb-4da2-aa20-5b84914dcbe2",
   "metadata": {},
   "outputs": [
    {
     "name": "stdout",
     "output_type": "stream",
     "text": [
      "('Math', 'George Harr', '0594805888', 15)\n",
      "[('Math', 'George Harr', '0594805888', 15)]\n",
      "[('Math', 'George Harr', '0594805888', 15), ('English', 'James Odd', '0596225888', 10)]\n"
     ]
    }
   ],
   "source": [
    "#17.\n",
    "class Library(object):\n",
    "    books = []\n",
    "    written_by_author = []\n",
    "    books_under_price = []\n",
    "\n",
    "    def __init__(self, name, author, isbn, price):\n",
    "        self.name = name\n",
    "        self.author = author\n",
    "        self.isbn = isbn\n",
    "        self.price = price\n",
    "\n",
    "    def addBook(self):\n",
    "        Library.books.append((self.name,self.author,self.isbn,self.price))\n",
    "\n",
    "    def searchBookISBN(self,isbn):\n",
    "        for book in Library.books:\n",
    "            if book[2]==isbn:\n",
    "                return book\n",
    "\n",
    "    def searchBookAuthor(self,author):\n",
    "        for book in Library.books:\n",
    "            if book[1]==author:\n",
    "                Library.written_by_author.append(book)\n",
    "        return Library.written_by_author\n",
    "\n",
    "    def searchUnderPrice(self,price):\n",
    "        for book in Library.books:\n",
    "            if book[3]<price:\n",
    "                Library.books_under_price.append(book)\n",
    "        return Library.books_under_price\n",
    "\n",
    "\n",
    "book = Library('Geometry', 'Jeff Potter', '0596805888', 22)\n",
    "book.addBook()\n",
    "book = Library('Math', 'George Harr', '0594805888', 15)\n",
    "book.addBook()\n",
    "book = Library('English', 'James Odd', '0596225888', 10)\n",
    "book.addBook()\n",
    "book = Library('Physics','Jeff Potter','0597884512',18)\n",
    "print (book.searchBookISBN('0594805888'))\n",
    "print (book.searchBookAuthor('George Harr'))\n",
    "print (book.searchUnderPrice(20))"
   ]
  },
  {
   "cell_type": "code",
   "execution_count": null,
   "id": "42aa6acb-f385-4922-8e94-f7e6fb543674",
   "metadata": {},
   "outputs": [],
   "source": [
    "#18.\n",
    "'''Modularity refers to the concept of making multiple modules first and then linking and combining them to\n",
    "form a complete system (i.e, the extent to which a software/Web application may be divided into smaller modules is called modularity).\n",
    "Modularity enables re-usability and will minimize duplication'''\n"
   ]
  },
  {
   "cell_type": "code",
   "execution_count": null,
   "id": "3ea5920f-a747-4852-8486-fd58c26f978b",
   "metadata": {},
   "outputs": [],
   "source": [
    "#19.\n",
    "'''Separation of concerns is strengthened by information hiding in which modules do not \n",
    "take advantage of knowledge about how other modules are implemented. \n",
    "Information hiding provides loose coupling that tends to make code evolution easier.'''\n"
   ]
  },
  {
   "cell_type": "code",
   "execution_count": 31,
   "id": "12271163-f91a-4e87-8aa3-94ad44f30eec",
   "metadata": {},
   "outputs": [
    {
     "data": {
      "text/plain": [
       "'5000'"
      ]
     },
     "execution_count": 31,
     "metadata": {},
     "output_type": "execute_result"
    }
   ],
   "source": [
    "#20.\n",
    "class Customer:\n",
    "    def __init__(self, customer_name, customer_id, price):\n",
    "        self.customer_name = customer_name\n",
    "        self.customer_id = customer_id\n",
    "        self.price = price\n",
    "\n",
    "    def customer_details(self, customer_name, customer_id):\n",
    "        self.customer_name = customer_name\n",
    "        self.customer_id = customer_id\n",
    "        \n",
    "    def get_discount(self, price):\n",
    "        self.price = price\n",
    "        pass\n",
    "    \n",
    "lexi=Customer('lex','123','5000')\n",
    "lexi.price"
   ]
  },
  {
   "cell_type": "markdown",
   "id": "f6759cb8-f0c9-42ff-a569-a001a256df4b",
   "metadata": {},
   "source": [
    "# POLYMORPHISM\n"
   ]
  },
  {
   "cell_type": "code",
   "execution_count": null,
   "id": "e926c518-6c8c-4351-87b3-eb97fd8af3b1",
   "metadata": {},
   "outputs": [],
   "source": [
    "#1.\n",
    "'''What is Polymorphism: The word polymorphism means having many forms. \n",
    "In programming, polymorphism means the same function name (but different signatures) being used for different types. \n",
    "The key difference is the data types and number of arguments used in function'''"
   ]
  },
  {
   "cell_type": "code",
   "execution_count": 33,
   "id": "527c54b6-7cbf-446d-bad8-f765bb0ff7e9",
   "metadata": {},
   "outputs": [
    {
     "data": {
      "text/plain": [
       "'Run-Time Polymorphism: Whenever an object is bound with the functionality at run time, this is known as runtime polymorphism. \\nThe runtime polymorphism can be achieved by method overriding.\\nvirtual machine determines the proper method to call at the runtime, not at the compile time. \\nIt is also called dynamic or late binding.\\nMethod overriding says the child class has the same method as declared in the parent class. \\nIt means if the child class provides the specific implementation of the method that has been provided\\nby one of its parent classes then it is known as method overriding. The following is an example where runtime polymorphism can be observed.'"
      ]
     },
     "execution_count": 33,
     "metadata": {},
     "output_type": "execute_result"
    }
   ],
   "source": [
    "#2.\n",
    "'''Compile Time Polymorphism: Whenever an object is bound with its functionality at the compile time, this is known as the \n",
    "compile-time polymorphism. At compile-time, java knows which method to call by checking the method signatures. \n",
    "So this is called compile-time polymorphism or static or early binding.\n",
    "Compile-time polymorphism is achieved through method overloading. \n",
    "Method Overloading says you can have more than one function with the same name in one class \n",
    "having a different prototype. Function overloading is one of the ways to achieve polymorphism but \n",
    "it depends on technology and which type of polymorphism we adopt. we achieve function overloading at compile-Time. \n",
    "The following is an example where compile-time polymorphism can be observed.'''\n",
    "\n",
    "'''Run-Time Polymorphism: Whenever an object is bound with the functionality at run time, this is known as runtime polymorphism. \n",
    "The runtime polymorphism can be achieved by method overriding.\n",
    "virtual machine determines the proper method to call at the runtime, not at the compile time. \n",
    "It is also called dynamic or late binding.\n",
    "Method overriding says the child class has the same method as declared in the parent class. \n",
    "It means if the child class provides the specific implementation of the method that has been provided\n",
    "by one of its parent classes then it is known as method overriding. The following is an example where runtime polymorphism can be observed.'''\n",
    "\n"
   ]
  },
  {
   "cell_type": "code",
   "execution_count": 48,
   "id": "7d981da3-2384-4bd1-be7f-c4a6638e7d23",
   "metadata": {},
   "outputs": [
    {
     "name": "stdout",
     "output_type": "stream",
     "text": [
      "Rectangle Area: 15\n",
      "Rectangle Perimeter: 16\n"
     ]
    }
   ],
   "source": [
    "#3.\n",
    "def rectangle_area(length, width):\n",
    "    return length * width\n",
    "def rectangle_perimeter(length, width):\n",
    "    return 2 * (length + width)\n",
    "length = 5\n",
    "width = 3\n",
    "print(\"Rectangle Area:\", rectangle_area(length, width))\n",
    "print(\"Rectangle Perimeter:\", rectangle_perimeter(length, width))"
   ]
  },
  {
   "cell_type": "code",
   "execution_count": null,
   "id": "87508573-8b66-4bfd-81e2-f4a2768d92c6",
   "metadata": {},
   "outputs": [],
   "source": [
    "#4.\n",
    "'''Why is method overriding a run-time polymorphism?\n",
    "However, it is printing different information in Language and Java. Based on the object \n",
    "used to call the method, the corresponding information is printed.\n",
    "Note: The method that is called is determined during the execution of the program. Hence, method overriding is a run-time polymorphism.'''"
   ]
  },
  {
   "cell_type": "code",
   "execution_count": null,
   "id": "7c92a13b-f057-46d2-9174-7423990ae785",
   "metadata": {},
   "outputs": [],
   "source": [
    "#5.\n",
    "'''What is the difference between polymorphism and inheritance in Python?\n",
    "USA is a developed country. In Python, Polymorphism lets us define methods in the child class \n",
    "that have the same name as the methods in the parent class. In inheritance, the child class inherits the methods from the parent class.\n",
    "However, it is possible to modify a method in a child class that it has inherited from the parent class.'''"
   ]
  },
  {
   "cell_type": "code",
   "execution_count": 52,
   "id": "030235d5-5467-4f67-ac71-32ba87bd8b4f",
   "metadata": {},
   "outputs": [
    {
     "name": "stdin",
     "output_type": "stream",
     "text": [
      "Please enter your pet'\\s name:  spike\n",
      "What animal is your pet? dog\n",
      "What is the age of your pet? 3\n"
     ]
    },
    {
     "name": "stdout",
     "output_type": "stream",
     "text": [
      "pet name is  spike\n",
      "pet type is  dog\n",
      "pet age is  3.0\n"
     ]
    }
   ],
   "source": [
    "#6.\n",
    "class Pet:\n",
    "    def __init__(self, name,animal_type,age):\n",
    "        self.__name = name\n",
    "        self.__animal_type = animal_type\n",
    "        self.__age = age\n",
    "\n",
    "    def set_name(self,name):\n",
    "        self.__name = name\n",
    "\n",
    "    def set_animal_type(self,animal_type):\n",
    "        self.__animal_type = animal_type\n",
    "\n",
    "    def set_age(self,age):\n",
    "        self.__age = age\n",
    "\n",
    "    def get_name(self):\n",
    "        return self.__name\n",
    "\n",
    "    def get_age(self):\n",
    "        return self.__age\n",
    "\n",
    "    def get_animal_tpe(self):\n",
    "        return self.__animal_type\n",
    "\n",
    "\n",
    "def main():\n",
    "    pet_name = input('Please enter your pet\\'\\s name: ')\n",
    "    pet_type = input('What animal is your pet?')\n",
    "    pet_age = float(input('What is the age of your pet?'))\n",
    "\n",
    "    pet_specs = Pet(pet_name,pet_type,pet_age)\n",
    "\n",
    "    print('pet name is ', pet_specs.get_name())\n",
    "    print('pet type is ', pet_specs.get_animal_tpe())\n",
    "    print('pet age is ', pet_specs.get_age())\n",
    "\n",
    "main()"
   ]
  },
  {
   "cell_type": "code",
   "execution_count": null,
   "id": "b8438906-603c-4d54-b9d7-fb8c79a87f9c",
   "metadata": {},
   "outputs": [],
   "source": [
    "#7.\n",
    "'''This method checks whether the property active and returns the appropriate message depending on the value of active, \n",
    "with default value of false. We can set it to true for those men that are active.'''"
   ]
  },
  {
   "cell_type": "code",
   "execution_count": 60,
   "id": "3bca8bba-8181-44ec-bb2c-4779768b9228",
   "metadata": {},
   "outputs": [
    {
     "name": "stdout",
     "output_type": "stream",
     "text": [
      "Vehicle Type: SUV\n",
      "Make: BMW\n",
      "Model: X5\n",
      "Color: silver\n",
      "Year: 2003\n",
      "Miles driven: 120300\n",
      "Fuel capacity (gallons): 30\n",
      "Vehicle Type: Sport\n",
      "Make: Tesla\n",
      "Model: Model S\n",
      "Color: red\n",
      "Year: 2014\n",
      "Miles driven: 1243\n",
      "Energy Storage (Kwh): 85\n",
      "Vehicle Type: race car\n",
      "Make: Lamborgini\n",
      "Model: Enzo\n",
      "Color: dark silver\n",
      "Year: 2014\n",
      "Miles driven: 3500\n",
      "Fuel capacity (gallons): 23\n",
      "Horse power: 650\n",
      "Top speed: 160\n",
      "Gear box: manual\n",
      "Drive system: rear wheel\n",
      "Vehicle Type: transport\n",
      "Make: Dirt Inc.\n",
      "Model: Dirt Blaster 100\n",
      "Color: blue\n",
      "Year: 1992\n",
      "Miles driven: 120030\n",
      "Fuel capacity (gallons): 190\n",
      "Maximum load (tons): 4\n",
      "Wheels: 12\n",
      "Length (m): 21\n",
      "Cargo: cement\n"
     ]
    }
   ],
   "source": [
    "#8.\n",
    "class Vehicle(object):  # no instance of this class should be created\n",
    "\n",
    "    def __init__(self, typ, make, model, color, year, miles):\n",
    "        self.typ = typ\n",
    "        self.make = make\n",
    "        self.model = model\n",
    "        self.color = color.lower()\n",
    "        self.year = year\n",
    "        self.miles = miles\n",
    "\n",
    "    def vehicle_print(self):\n",
    "            print('Vehicle Type: ' + str(self.typ))\n",
    "            print('Make: ' + str(self.make))\n",
    "            print('Model: ' + str(self.model))\n",
    "            print('Color: ' + str(self.color))\n",
    "            print('Year: ' + str(self.year))\n",
    "            print('Miles driven: ' + str(self.miles))\n",
    "\n",
    "\n",
    "class GasVehicle(Vehicle):\n",
    "\n",
    "    def __init__(self, fuel_tank, *args):\n",
    "        self.fuel_tank = fuel_tank\n",
    "        Vehicle.__init__(self, *args)\n",
    "\n",
    "    def vehicle_print(self):\n",
    "        Vehicle.vehicle_print(self)\n",
    "        print('Fuel capacity (gallons): ' + str(self.fuel_tank))\n",
    "\n",
    "\n",
    "class ElectricVehicle(Vehicle):\n",
    "\n",
    "    def __init__(self, energy_storage, *args):\n",
    "        self.energy_storage = energy_storage\n",
    "        Vehicle.__init__(self, *args)\n",
    "\n",
    "    def vehicle_print(self):\n",
    "        Vehicle.vehicle_print(self)\n",
    "        print('Energy Storage (Kwh): ' + str(self.energy_storage))\n",
    "\n",
    "\n",
    "class HeavyVehicle(GasVehicle):  # no instance of this class should be created\n",
    "\n",
    "    def __init__(self, max_weight, wheels, length, *args):\n",
    "        self.max_weight = max_weight\n",
    "        self.wheels = wheels\n",
    "        self.length = length\n",
    "        GasVehicle.__init__(self, *args)\n",
    "\n",
    "    def vehicle_print(self):\n",
    "        GasVehicle.vehicle_print(self)\n",
    "        print('Maximum load (tons): ' + str(self.max_weight))\n",
    "        print('Wheels: ' + str(self.wheels))\n",
    "        print('Length (m): ' + str(self.length))\n",
    "\n",
    "\n",
    "class ConstructionTruck(HeavyVehicle):\n",
    "\n",
    "    def __init__(self, cargo, *args):\n",
    "        self.cargo = cargo\n",
    "        HeavyVehicle.__init__(self, *args)\n",
    "\n",
    "    def vehicle_print(self):\n",
    "        HeavyVehicle.vehicle_print(self)\n",
    "        print('Cargo: ' + str(self.cargo))\n",
    "\n",
    "\n",
    "class Bus(HeavyVehicle):\n",
    "\n",
    "    def __init__(self, seats, * args):\n",
    "        self.seats = seats\n",
    "        HeavyVehicle.__init__(self, *args)\n",
    "\n",
    "    def vehicle_print(self):\n",
    "        HeavyVehicle.vehicle_print(self)\n",
    "        print('Number of seats: ' + str(self.seats))\n",
    "\n",
    "\n",
    "class HighPerformance(GasVehicle):  # no instance of this class should be created\n",
    "\n",
    "    def __init__(self, hp, top_speed, *args):\n",
    "        self.hp = hp\n",
    "        self.top_speed = top_speed\n",
    "        GasVehicle.__init__(self, *args)\n",
    "\n",
    "    def vehicle_print(self):\n",
    "        GasVehicle.vehicle_print(self)\n",
    "        print('Horse power: ' + str(self.hp))\n",
    "        print('Top speed: ' + str(self.top_speed))\n",
    "\n",
    "\n",
    "class SportCar(HighPerformance):\n",
    "\n",
    "    def __init__(self, gear_box, drive_system, *args):\n",
    "        self.gearbox = gear_box\n",
    "        self.drive_system = drive_system\n",
    "        HighPerformance.__init__(self, *args)\n",
    "\n",
    "    def vehicle_print(self):\n",
    "        HighPerformance.vehicle_print(self)\n",
    "        print('Gear box: ' + self.gearbox)\n",
    "        print('Drive system: ' + self.drive_system)\n",
    "\n",
    "\n",
    "\n",
    "\n",
    "bmw = GasVehicle(30, 'SUV', 'BMW', 'X5', 'silver', 2003, 120300)  # regular car\n",
    "bmw.vehicle_print()\n",
    "print\n",
    "tesla = ElectricVehicle(85, 'Sport', 'Tesla', 'Model S', 'red', 2014, 1243)  # electric car\n",
    "tesla.vehicle_print()\n",
    "print\n",
    "lambo = SportCar('manual', 'rear wheel', 650, 160, 23, 'race car', 'Lamborgini', 'Enzo', 'dark silver', 2014, 3500)  # sportscar\n",
    "lambo.vehicle_print()\n",
    "print\n",
    "truck = ConstructionTruck('cement', 4, 12, 21, 190, 'transport', 'Dirt Inc.', 'Dirt Blaster 100', 'blue', 1992, 120030)  # Construction truck\n",
    "truck.vehicle_print()"
   ]
  },
  {
   "cell_type": "code",
   "execution_count": null,
   "id": "6db4d5da-3763-45fd-b8c8-093260227d96",
   "metadata": {},
   "outputs": [],
   "source": [
    "#9.\n",
    "'''Most of us get confused with isinstance () and issubclass () functions in python.\n",
    "isinstance () is used to check if an object is an instance of a certain class or any of its subclass.\n",
    "Again, issubclass () is used to check if a class type is the subclass of a different class.''' "
   ]
  },
  {
   "cell_type": "code",
   "execution_count": null,
   "id": "99c739c2-4a03-4909-95da-87102b4bad09",
   "metadata": {},
   "outputs": [],
   "source": [
    "#10.What is abstractmethod decorator in Python?\n",
    "'''The `abstractmethod` decorator, combined with the `ABC` (Abstract Base Class) metaclass, is used in\n",
    "Python to define abstract methods within an abstract base class. Subclasses are required to provide an implementation \n",
    "for any abstract methods and cannot create instances of the base class that has these abstract method'''"
   ]
  },
  {
   "cell_type": "code",
   "execution_count": 1,
   "id": "79559765-937b-4fac-8251-9e1d9386bfb0",
   "metadata": {},
   "outputs": [
    {
     "name": "stdout",
     "output_type": "stream",
     "text": [
      "Radius of the circle: 7\n",
      "Circle Area: 153.93804002589985\n",
      "Circle Perimeter: 43.982297150257104\n",
      "\n",
      "Rectangle: Length = 5  Width = 7\n",
      "Rectangle Area: 35\n",
      "Rectangle Perimeter: 24\n",
      "\n",
      "Triangle: Base = 5  Height = 4  side1 = 4  side2 = 3  side3 = 5\n",
      "Triangle Area: 10.0\n",
      "Triangle Perimeter: 12\n"
     ]
    }
   ],
   "source": [
    "#11.\n",
    "# Import the math module to access mathematical functions like pi\n",
    "import math\n",
    "\n",
    "# Define a base class called Shape to represent a generic shape with methods for calculating area and perimeter\n",
    "class Shape:\n",
    "    # Placeholder method for calculating area (to be implemented in derived classes)\n",
    "    def calculate_area(self):\n",
    "        pass\n",
    "\n",
    "    # Placeholder method for calculating perimeter (to be implemented in derived classes)\n",
    "    def calculate_perimeter(self):\n",
    "        pass\n",
    "\n",
    "# Define a derived class called Circle, which inherits from the Shape class\n",
    "class Circle(Shape):\n",
    "    # Initialize the Circle object with a given radius\n",
    "    def __init__(self, radius):\n",
    "        self.radius = radius\n",
    "\n",
    "    # Calculate and return the area of the circle using the formula: π * r^2\n",
    "    def calculate_area(self):\n",
    "        return math.pi * self.radius**2\n",
    "\n",
    "    # Calculate and return the perimeter of the circle using the formula: 2π * r\n",
    "    def calculate_perimeter(self):\n",
    "        return 2 * math.pi * self.radius\n",
    "\n",
    "# Define a derived class called Rectangle, which inherits from the Shape class\n",
    "class Rectangle(Shape):\n",
    "    # Initialize the Rectangle object with given length and width\n",
    "    def __init__(self, length, width):\n",
    "        self.length = length\n",
    "        self.width = width\n",
    "\n",
    "    # Calculate and return the area of the rectangle using the formula: length * width\n",
    "    def calculate_area(self):\n",
    "        return self.length * self.width\n",
    "\n",
    "    # Calculate and return the perimeter of the rectangle using the formula: 2 * (length + width)\n",
    "    def calculate_perimeter(self):\n",
    "        return 2 * (self.length + self.width)\n",
    "\n",
    "# Define a derived class called Triangle, which inherits from the Shape class\n",
    "class Triangle(Shape):\n",
    "    # Initialize the Triangle object with a base, height, and three side lengths\n",
    "    def __init__(self, base, height, side1, side2, side3):\n",
    "        self.base = base\n",
    "        self.height = height\n",
    "        self.side1 = side1\n",
    "        self.side2 = side2\n",
    "        self.side3 = side3\n",
    "\n",
    "    # Calculate and return the area of the triangle using the formula: 0.5 * base * height\n",
    "    def calculate_area(self):\n",
    "        return 0.5 * self.base * self.height\n",
    "\n",
    "    # Calculate and return the perimeter of the triangle by adding the lengths of its three sides\n",
    "    def calculate_perimeter(self):\n",
    "        return self.side1 + self.side2 + self.side3\n",
    "\n",
    "# Example usage\n",
    "# Create a Circle object with a given radius and calculate its area and perimeter\n",
    "r = 7\n",
    "circle = Circle(r)\n",
    "circle_area = circle.calculate_area()\n",
    "circle_perimeter = circle.calculate_perimeter()\n",
    "\n",
    "# Print the results for the Circle\n",
    "print(\"Radius of the circle:\", r)\n",
    "print(\"Circle Area:\", circle_area)\n",
    "print(\"Circle Perimeter:\", circle_perimeter)\n",
    "\n",
    "# Create a Rectangle object with given length and width and calculate its area and perimeter\n",
    "l = 5\n",
    "w = 7\n",
    "rectangle = Rectangle(l, w)\n",
    "rectangle_area = rectangle.calculate_area()\n",
    "rectangle_perimeter = rectangle.calculate_perimeter()\n",
    "\n",
    "# Print the results for the Rectangle\n",
    "print(\"\\nRectangle: Length =\", l, \" Width =\", w)\n",
    "print(\"Rectangle Area:\", rectangle_area)\n",
    "print(\"Rectangle Perimeter:\", rectangle_perimeter)\n",
    "\n",
    "# Create a Triangle object with a base, height, and three side lengths, and calculate its area and perimeter\n",
    "base = 5\n",
    "height = 4\n",
    "s1 = 4\n",
    "s2 = 3\n",
    "s3 = 5\n",
    "\n",
    "# Print the results for the Triangle\n",
    "print(\"\\nTriangle: Base =\", base, \" Height =\", height, \" side1 =\", s1, \" side2 =\", s2, \" side3 =\", s3)\n",
    "triangle = Triangle(base, height, s1, s2, s3)\n",
    "triangle_area = triangle.calculate_area()\n",
    "triangle_perimeter = triangle.calculate_perimeter()\n",
    "print(\"Triangle Area:\", triangle_area)\n",
    "print(\"Triangle Perimeter:\", triangle_perimeter)\n"
   ]
  },
  {
   "cell_type": "code",
   "execution_count": null,
   "id": "90213cb7-a558-48f1-8bce-92028efd5e2d",
   "metadata": {},
   "outputs": [],
   "source": [
    "#12.why is polymorphism important?\n",
    "'''This Polymorphism feature allows programming to become faster and resourceful to develop codes.\n",
    "Polymorphism advantages say it is inherently good that reduces coupling and maximizing reusability to code a readable program'''"
   ]
  },
  {
   "cell_type": "code",
   "execution_count": null,
   "id": "cdfe54a1-c28e-4626-b6ac-6d4a6401a014",
   "metadata": {},
   "outputs": [],
   "source": [
    "#13.What is a super function in Python?\n",
    "'''The super function returns a temporary object of the superclass that allows access to all of its methods to its child class. \n",
    "Note: For more information, refer to Inheritance in Python. Let’s take the example of animals. \n",
    "Dogs, cats, and cows are part of animals. They also share common characteristics like – They are mammals'''"
   ]
  },
  {
   "cell_type": "code",
   "execution_count": 2,
   "id": "8b009179-a6d4-4686-be66-be66af238569",
   "metadata": {},
   "outputs": [
    {
     "name": "stdout",
     "output_type": "stream",
     "text": [
      "Hello!!! Welcome to the Deposit & Withdrawal Machine\n"
     ]
    },
    {
     "name": "stdin",
     "output_type": "stream",
     "text": [
      "Enter amount to be Deposited:  90000\n"
     ]
    },
    {
     "name": "stdout",
     "output_type": "stream",
     "text": [
      "\n",
      " Amount Deposited: 90000.0\n"
     ]
    },
    {
     "name": "stdin",
     "output_type": "stream",
     "text": [
      "Enter amount to be Withdrawn:  3000\n"
     ]
    },
    {
     "name": "stdout",
     "output_type": "stream",
     "text": [
      "\n",
      " You Withdrew: 3000.0\n",
      "\n",
      " Net Available Balance= 87000.0\n"
     ]
    }
   ],
   "source": [
    "#14.\n",
    "# Python program to create Bankaccount class\n",
    "# with both a deposit() and a withdraw() function\n",
    "class Bank_Account:\n",
    "    def __init__(self):\n",
    "        self.balance=0\n",
    "        print(\"Hello!!! Welcome to the Deposit & Withdrawal Machine\")\n",
    " \n",
    "    def deposit(self):\n",
    "        amount=float(input(\"Enter amount to be Deposited: \"))\n",
    "        self.balance += amount\n",
    "        print(\"\\n Amount Deposited:\",amount)\n",
    " \n",
    "    def withdraw(self):\n",
    "        amount = float(input(\"Enter amount to be Withdrawn: \"))\n",
    "        if self.balance>=amount:\n",
    "            self.balance-=amount\n",
    "            print(\"\\n You Withdrew:\", amount)\n",
    "        else:\n",
    "            print(\"\\n Insufficient balance  \")\n",
    " \n",
    "    def display(self):\n",
    "        print(\"\\n Net Available Balance=\",self.balance)\n",
    " \n",
    "# Driver code\n",
    "  \n",
    "# creating an object of class\n",
    "s = Bank_Account()\n",
    "  \n",
    "# Calling functions with that class object\n",
    "s.deposit()\n",
    "s.withdraw()\n",
    "s.display()"
   ]
  },
  {
   "cell_type": "code",
   "execution_count": null,
   "id": "104508e3-720c-4a94-b10a-2341c56e1349",
   "metadata": {},
   "outputs": [],
   "source": [
    "#15.Python Operator Overloading\n",
    "'''In Python, we can change the way operators work for user-defined types.\n",
    "\n",
    "For example, the + operator will perform arithmetic addition on two numbers, merge two lists, or concatenate two strings.\n",
    "\n",
    "This feature in Python that allows the same operator to have different meaning according to the context is called operator overloading.'''"
   ]
  },
  {
   "cell_type": "code",
   "execution_count": null,
   "id": "d3acf132-d45b-4fa4-8c78-477ecada509c",
   "metadata": {},
   "outputs": [],
   "source": [
    "#16.\n",
    "'''In Python, we have the concept of Dynamic typing i.e. we can mention the type of variable/object later. \n",
    "The idea is that you don’t need a type in order to invoke an existing method on an object if a method is defined on it, you can invoke it'''"
   ]
  },
  {
   "cell_type": "code",
   "execution_count": null,
   "id": "6e3b013f-7c41-4419-922c-649e636fc416",
   "metadata": {},
   "outputs": [],
   "source": [
    "#18.\n",
    "'''Function Pointer :\n",
    "Pointers are symbolic representations of addresses.\n",
    "They enable programs to simulate call-by-reference as well as to create and manipulate dynamic data structures. \n",
    "Iterating over elements in arrays or other data structures is one of the main use of pointers.\n",
    "\n",
    "The address of the variable you’re working with is assigned to the pointer variable that \n",
    "points to the same data type (such as an int or string)'''"
   ]
  },
  {
   "cell_type": "code",
   "execution_count": 12,
   "id": "e1ebd1ca-ab4e-4872-8681-aa13d9114932",
   "metadata": {},
   "outputs": [
    {
     "name": "stdout",
     "output_type": "stream",
     "text": [
      "added\n",
      "borrowed\n"
     ]
    }
   ],
   "source": [
    "#19.\n",
    "class pwskills:\n",
    "    def student(self):\n",
    "        pass\n",
    "class add (pwskills):\n",
    "    print('added')\n",
    "class borrow(pwskills):\n",
    "    print('borrowed')\n",
    "    \n",
    "yash=add()\n"
   ]
  },
  {
   "cell_type": "code",
   "execution_count": null,
   "id": "a4ea2751-6090-4974-abfc-079fb1adda30",
   "metadata": {},
   "outputs": [],
   "source": [
    "#20.\n",
    "'''What is Abstraction in Python?\n",
    "In Object Oriented Programming, Inheritance, Polymorphism and Encapsulation go hand in hand. \n",
    "But Abstraction is also an essential element of OOP.\n",
    "\n",
    "For example, people do not think of a car as a set of thousands of individual parts. \n",
    "Instead they see it as a well-defined object with its own unique behavior. \n",
    "This abstraction allows people to use a car to drive without knowing the complexity of the parts that form the car. \n",
    "They can ignore the details of how the engine transmission, \n",
    "and braking systems work. Instead, they are free to utilize the object as a whole.'''"
   ]
  },
  {
   "cell_type": "markdown",
   "id": "f5f0aba6-a861-4edc-9832-a29da8348b3f",
   "metadata": {},
   "source": [
    "# composition"
   ]
  },
  {
   "cell_type": "code",
   "execution_count": null,
   "id": "38f050a5-bae1-4620-9651-f4fc8397a6e2",
   "metadata": {},
   "outputs": [],
   "source": [
    "#1.\n",
    "'''Function composition is the way of combining two or more functions in such a way \n",
    "that the output of one function becomes the input of the second function and so on.\n",
    "For example, let there be two functions “F” and “G” and their composition can be represented as\n",
    "F(G(x)) where “x” is the argument and output of G(x) function will become the input of F() function.'''"
   ]
  },
  {
   "cell_type": "code",
   "execution_count": null,
   "id": "fc7c00f7-3bb1-4407-9bf5-1509b3348968",
   "metadata": {},
   "outputs": [],
   "source": [
    "#2.\n",
    "'''Inheritance is tightly coupled whereas composition is loosely coupled. Let’s assume we have below classes with inheritance.\n",
    "\n",
    "package com.journaldev.java.examples;\n",
    "\n",
    "public class ClassA {\n",
    "\n",
    "\tpublic void foo(){\t\n",
    "\t}\n",
    "}\n",
    "\n",
    "class ClassB extends ClassA{\n",
    "\tpublic void bar(){\n",
    "\t\t\n",
    "\t}\n",
    "}\n",
    "For simplicity, we have both the superclass and subclass in a single package.\n",
    "But mostly they will be in the separate codebase. There could be many classes extending the superclass ClassA.\n",
    "A very common example of this situation\n",
    "is extending the Exception class. Now let’s say ClassA implementation is changed like below, a new method bar() is added.\n",
    "\n",
    "package com.journaldev.java.examples;\n",
    "\n",
    "public class ClassA {\n",
    "\n",
    "\tpublic void foo(){\t\n",
    "\t}\n",
    "\t\n",
    "\tpublic int bar(){\n",
    "\t\treturn 0;\n",
    "\t}\n",
    "}\n",
    "As soon as you start using new ClassA implementation, you will get compile time error in ClassB as The return type is incompatible with ClassA.bar().\n",
    "The solution would be to change either the superclass or the subclass bar() method to make them compatible. \n",
    "If you would have used Composition over inheritance, you will never face this problem. \n",
    "A simple example of ClassB implementation using Composition can be as below.\n",
    "\n",
    "class ClassB{\n",
    "\tClassA classA = new ClassA();\n",
    "\t\n",
    "\tpublic void bar(){\n",
    "\t\tclassA.foo();\n",
    "\t\tclassA.bar();\n",
    "\t}\n",
    "}\n",
    "There is no access control in inheritance whereas access can be restricted in composition. \n",
    "\n",
    "We expose all the superclass methods to the other classes having access to subclass. \n",
    "So if a new method is introduced or there are security holes in the superclass, subclass becomes vulnerable.\n",
    "Since in composition we choose which methods to use, it’s more secure than inheritance. \n",
    "For example, we can provide ClassA foo() method exposure to other classes using below code in ClassB.\n",
    "\n",
    "class ClassB {\n",
    "\t\n",
    "\tClassA classA = new ClassA();\n",
    "\t\n",
    "\tpublic void foo(){\n",
    "\t\tclassA.foo();\n",
    "\t}\n",
    "\t\n",
    "\tpublic void bar(){\t\n",
    "\t}\n",
    "\t\n",
    "}\n",
    "This is one of the major advantage of composition over inheritance.\n",
    "\n",
    "Composition provides flexibility in invocation of methods that is useful with multiple subclass scenario.\n",
    "For example, let’s say we have below inheritance scenario.\n",
    "\n",
    "abstract class Abs {\n",
    "\tabstract void foo();\n",
    "}\n",
    "\n",
    "public class ClassA extends Abs{\n",
    "\n",
    "\tpublic void foo(){\t\n",
    "\t}\n",
    "\t\n",
    "}\n",
    "\n",
    "class ClassB extends Abs{\n",
    "\t\t\n",
    "\tpublic void foo(){\n",
    "\t}\n",
    "\t\n",
    "}\n",
    "\n",
    "class Test {\n",
    "\t\n",
    "\tClassA a = new ClassA();\n",
    "\tClassB b = new ClassB();\n",
    "\n",
    "\tpublic void test(){\n",
    "\t\ta.foo();\n",
    "\t\tb.foo();\n",
    "\t}\n",
    "}\n",
    "So what if there are more subclasses, will composition make our code ugly by having one instance for each subclass?\n",
    "No, we can rewrite the Test class like below.\n",
    "\n",
    "class Test {\n",
    "\tAbs obj = null;\n",
    "\t\n",
    "\tTest1(Abs o){\n",
    "\t\tthis.obj = o;\n",
    "\t}\n",
    "\t\n",
    "\tpublic void foo(){\n",
    "\t\tthis.obj.foo();\n",
    "\t}\n",
    "\n",
    "}\n",
    "This will give you the flexibility to use any subclass based on the object used in the constructor.\n",
    "\n",
    "One more benefit of composition over inheritance is testing scope.\n",
    "Unit testing is easy in composition because we know what all methods we are using from another class.\n",
    "We can mock it up for testing whereas in inheritance we depend heavily on superclass and don’t know what all methods of superclass will be used.\n",
    "So we will have to test all the methods of the superclass.''' "
   ]
  },
  {
   "cell_type": "code",
   "execution_count": 10,
   "id": "21f2a54c-9921-4f48-ab47-dc2a058369bc",
   "metadata": {},
   "outputs": [
    {
     "data": {
      "text/plain": [
       "'author details'"
      ]
     },
     "execution_count": 10,
     "metadata": {},
     "output_type": "execute_result"
    }
   ],
   "source": [
    "#3.Create a Python class called `Author` with attributes for name and birthdate. Then, create a `Book` class\n",
    "#@that contains an instance of `Author` as a composition. Provide an example of creating a `Book` object.\n",
    "class author:\n",
    "    def name(self):\n",
    "        return \"author details\"\n",
    "class book:\n",
    "    def __init__(self):\n",
    "        self.name=author()\n",
    "        \n",
    "ds=book()\n",
    "ds.name.name()\n"
   ]
  },
  {
   "cell_type": "code",
   "execution_count": null,
   "id": "9850a2c3-c5e6-4a63-a92d-1c2152edc103",
   "metadata": {},
   "outputs": [],
   "source": [
    "#4.\n",
    "'''What is Inheritance (Is-A Relation)? \n",
    "It is a concept of Object-Oriented Programming. Inheritance is a mechanism that allows us to inherit all \n",
    "the properties from another class. The class from which the properties and functionalities are utilized is \n",
    "called the parent class (also called as Base Class). The class which uses the properties from another\n",
    "class is called as Child Class (also known as Derived class).\n",
    "Inheritance is also called an Is-A Relation.'''"
   ]
  },
  {
   "cell_type": "code",
   "execution_count": null,
   "id": "45fc2d6e-d680-4bcd-bd9b-788115daffb2",
   "metadata": {},
   "outputs": [],
   "source": [
    "#5.\n",
    "'''Composition is a concept that models a has a relationship.\n",
    "It enables creating complex types by combining objects of other types. \n",
    "This means that a class Composite can contain an object of another class Component.\n",
    "This relationship means that a Composite has a Component.'''"
   ]
  },
  {
   "cell_type": "code",
   "execution_count": 14,
   "id": "07b98824-cecd-4bcb-a4b9-b54e3aa70385",
   "metadata": {},
   "outputs": [
    {
     "data": {
      "text/plain": [
       "'ar rahman hits'"
      ]
     },
     "execution_count": 14,
     "metadata": {},
     "output_type": "execute_result"
    }
   ],
   "source": [
    "#6. Create a Python class hierarchy for a music player system, using composition to represent playlists and\n",
    "#songs.\n",
    "class musicplayers:\n",
    "    def playlist(self):\n",
    "        return \"ar rahman hits\"\n",
    "class songs:\n",
    "    def __init__(self):\n",
    "        self.playlist=musicplayers()\n",
    "mp3=songs()\n",
    "mp3.playlist.playlist()"
   ]
  },
  {
   "cell_type": "code",
   "execution_count": null,
   "id": "f48e835c-2c8e-44d4-aed7-e9e94e9703c4",
   "metadata": {},
   "outputs": [],
   "source": [
    "#7.\n",
    "'''Here we will study how to use implement Has-A Relation in Python. \n",
    "By using the class names or by creating an object we can access the member of one class inside another class.\n",
    "class Engine: # engine specific functionality ''' ''' ''' class Car: e = Engine () e.method1 () e.method2 () ''' '''\n"
   ]
  },
  {
   "cell_type": "code",
   "execution_count": 2,
   "id": "e8e436f4-8f0d-4122-b37b-a09a46f98b36",
   "metadata": {},
   "outputs": [
    {
     "data": {
      "text/plain": [
       "'well developed cpu'"
      ]
     },
     "execution_count": 2,
     "metadata": {},
     "output_type": "execute_result"
    }
   ],
   "source": [
    "#.8. Create a Python class for a computer system, using composition to represent components like CPU, RAM,\n",
    "#and storage devices.\n",
    "class computer_sys:\n",
    "    def cpu(self):\n",
    "        return \"well developed cpu\"\n",
    "class ram:\n",
    "    def __init__(self):\n",
    "        self.cpu=computer_sys()\n",
    "class storage_device:\n",
    "    def __init__(self):\n",
    "        self.cpu=computer_sys()\n",
    "cs=ram()\n",
    "cs.cpu.cpu()"
   ]
  },
  {
   "cell_type": "code",
   "execution_count": null,
   "id": "0d149168-8220-49b6-b3e0-dbdf51a29e53",
   "metadata": {},
   "outputs": [],
   "source": [
    "#9.\n",
    "'''effectively, delegation involves the distribution of authority for \n",
    "less important jobs to subordinates accompanied by no transfer of accountability.\n",
    "We all are familiar with the word authority. Of course, authority is the power of \n",
    "a person to command his subordinates and take actions by the virtue of his position.'''"
   ]
  },
  {
   "cell_type": "code",
   "execution_count": 8,
   "id": "61ef1ae9-658c-43b7-baf7-6cdd055b87de",
   "metadata": {},
   "outputs": [
    {
     "data": {
      "text/plain": [
       "'1 year warrenty'"
      ]
     },
     "execution_count": 8,
     "metadata": {},
     "output_type": "execute_result"
    }
   ],
   "source": [
    "#10.Create a Python class for a car, using composition to represent components like the engine, wheels, and\n",
    "#transmission.\n",
    "class car:\n",
    "    def engine(self):\n",
    "        return \"1 year warrenty\"\n",
    "class wheel:\n",
    "    def __init__(self):\n",
    "        self.engine=car()\n",
    "class transmission:\n",
    "    def __init__(self):\n",
    "        self.engine=car()\n",
    "c=wheel()\n",
    "c.engine.engine()\n"
   ]
  },
  {
   "cell_type": "code",
   "execution_count": null,
   "id": "595be611-38cc-417c-abbc-5c52a0620a2e",
   "metadata": {},
   "outputs": [],
   "source": [
    "'''#11.Encapsulation is one of the fundamental concepts in object-oriented programming (OOP). \n",
    "It describes the idea of wrapping data and the methods that work on data within one unit. \n",
    "This puts restrictions on accessing variables and methods directly and can prevent the accidental modification of data.\n",
    "To prevent accidental change, an object’s variable can only be changed by an object’s method. \n",
    "Those types of variables are known as private variables''''"
   ]
  },
  {
   "cell_type": "code",
   "execution_count": 10,
   "id": "6a9353ce-abdf-412b-a05d-1f1963657fa2",
   "metadata": {},
   "outputs": [
    {
     "data": {
      "text/plain": [
       "'stud details'"
      ]
     },
     "execution_count": 10,
     "metadata": {},
     "output_type": "execute_result"
    }
   ],
   "source": [
    "#12. Create a Python class for a university course, using composition to represent students, instructors, and\n",
    "#course materials.\n",
    "class university_course:\n",
    "    def students(self):\n",
    "        return \"stud details\"\n",
    "class instructors:\n",
    "    def __init__(self):\n",
    "        self.students=university_course()\n",
    "class materials:\n",
    "    def __init__(self):\n",
    "        self.student=university_course()\n",
    "cs=instructors()\n",
    "cs.students.students()"
   ]
  },
  {
   "cell_type": "code",
   "execution_count": null,
   "id": "bf254c55-7e7e-483f-b5c1-e7f497557daa",
   "metadata": {},
   "outputs": [],
   "source": [
    "#13.\n",
    "''''Introduction: The purpose of Design phase in the Software Development Life Cycle is to produce a solution to\n",
    "a problem given in the SRS(Software Requirement Specification) document. \n",
    "The output of the design phase is Software Design Document (SDD). \n",
    "\n",
    "Coupling and Cohesion are two key concepts in software engineering that are used to measure the quality of a software system’s design.\n",
    "\n",
    "Coupling refers to the degree of interdependence between software modules. \n",
    "High coupling means that modules are closely connected and changes in one module may affect other modules.\n",
    "Low coupling means that modules are independent and changes in one module have little impact on other modules.\n",
    "\n",
    "Cohesion refers to the degree to which elements within a module work together to fulfill a single, well-defined purpose.\n",
    "High cohesion means that elements are closely related and focused on a single purpose,\n",
    "while low cohesion means that elements are loosely related and serve multiple purposes'''"
   ]
  },
  {
   "cell_type": "code",
   "execution_count": 11,
   "id": "b528e0df-3db7-4ee5-a042-e8470781c5d7",
   "metadata": {},
   "outputs": [
    {
     "data": {
      "text/plain": [
       "'starters<___>,maincourse<____>,sweets<____>'"
      ]
     },
     "execution_count": 11,
     "metadata": {},
     "output_type": "execute_result"
    }
   ],
   "source": [
    "#14.Create a Python class hierarchy for a restaurant system, using composition to represent menus, dishes,\n",
    "#and ingredients.\n",
    "class restaurant:\n",
    "    def menus(self):\n",
    "        return \"starters<___>,maincourse<____>,sweets<____>\"\n",
    "class dishes:\n",
    "    def __init__(self):\n",
    "        self.menus=restaurant()\n",
    "class ingredients:\n",
    "    def __init__(self):\n",
    "        self.menus=restaurant()\n",
    "cs=dishes()\n",
    "cs.menus.menus()\n"
   ]
  },
  {
   "cell_type": "code",
   "execution_count": null,
   "id": "42fd9357-eaaa-48dd-a58f-24536dd4bb46",
   "metadata": {},
   "outputs": [],
   "source": [
    "#15.\n",
    "'''OOP is a programming paradigm based on the concept of “objects”, which may contain data, in the form of fields,\n",
    "often known as attributes; and code, in the form of procedures, often known as methods. Learn more here, or just Google “OOP”.\n",
    "Objects have characteristics and features, known as attributes, and can do various things, through their methods. \n",
    "The biggest feature of OOP is how well objects can be interacted with, and even molded in the future,\n",
    "which makes them very friendly to developers, scale, change over time, testing, and much more.'''"
   ]
  },
  {
   "cell_type": "code",
   "execution_count": 13,
   "id": "ad5a83eb-1ae4-4f36-bb9d-1c51bd978c19",
   "metadata": {},
   "outputs": [
    {
     "data": {
      "text/plain": [
       "'game starts'"
      ]
     },
     "execution_count": 13,
     "metadata": {},
     "output_type": "execute_result"
    }
   ],
   "source": [
    "\n",
    "'''16. Create a Python class for a computer game character, using composition to represent attributes like\n",
    "weapons, armor, and inventory.'''\n",
    "\n",
    "class comp_game:\n",
    "    def weapons(self):\n",
    "        return \"game starts\"\n",
    "class armor:\n",
    "    def __init__(self):\n",
    "        self.weapons=comp_game()\n",
    "class inventory:\n",
    "    def __init__(self):\n",
    "        self.weapons=comp_game()\n",
    "cs=armor()\n",
    "cs.weapons.weapons()"
   ]
  },
  {
   "cell_type": "code",
   "execution_count": null,
   "id": "7208e6a3-68ab-4e62-a061-e67d0319de7c",
   "metadata": {},
   "outputs": [],
   "source": [
    "#17.\n",
    "'''What is the difference between aggregation and composition?\n",
    "\n",
    "Aggregation can be described as a “Has-a” relationship, which denotes the association between objects.\n",
    "Composition means one object is contained in another object.\n",
    "It is a special type of aggregation (i.e. Has-a relationship), which implies one object is the owner of another object, \n",
    "which can be called an ownership association.'''\n"
   ]
  },
  {
   "cell_type": "code",
   "execution_count": 14,
   "id": "aa9d724d-a4d9-4d5b-ba76-51193a70a490",
   "metadata": {},
   "outputs": [
    {
     "data": {
      "text/plain": [
       "'user comfort'"
      ]
     },
     "execution_count": 14,
     "metadata": {},
     "output_type": "execute_result"
    }
   ],
   "source": [
    "#18. Create a Python class for a house, using composition to represent rooms, furniture, and appliances\n",
    "class house:\n",
    "    def rooms(self):\n",
    "        return \"user comfort\"\n",
    "class furniture:\n",
    "    def __init__(self):\n",
    "        self.rooms=house()\n",
    "class appliances:\n",
    "    def __init__(self):\n",
    "        self.rooms=house()\n",
    "cs=furniture()\n",
    "cs.rooms.rooms()"
   ]
  },
  {
   "cell_type": "code",
   "execution_count": null,
   "id": "4cf5399c-cda0-49dc-b3fc-eb9372950fa0",
   "metadata": {},
   "outputs": [],
   "source": [
    "#19.\n",
    "'''Composition combines existing classes to create more complex classes, which promotes code reuse. \n",
    "Because objects can be dynamically composed at runtime and easily replaced or modified without affecting the entire system,\n",
    "composition allows for greater flexibility and modularity'''"
   ]
  },
  {
   "cell_type": "code",
   "execution_count": null,
   "id": "ea45edf0-d145-4bc3-990b-fee375cb3fd1",
   "metadata": {},
   "outputs": [],
   "source": [
    "#20. Create a Python class for a social media application, using composition to represent users, posts, and\n",
    "#comments.\n",
    "class social_media:\n",
    "    def user(self):\n",
    "        return \"\"\n",
    "class furniture:\n",
    "    def __init__(self):\n",
    "        self.rooms=house()\n",
    "class appliances:\n",
    "    def __init__(self):\n",
    "        self.rooms=house()\n",
    "cs=furniture()\n",
    "cs.rooms.rooms()"
   ]
  }
 ],
 "metadata": {
  "kernelspec": {
   "display_name": "Python 3 (ipykernel)",
   "language": "python",
   "name": "python3"
  },
  "language_info": {
   "codemirror_mode": {
    "name": "ipython",
    "version": 3
   },
   "file_extension": ".py",
   "mimetype": "text/x-python",
   "name": "python",
   "nbconvert_exporter": "python",
   "pygments_lexer": "ipython3",
   "version": "3.10.8"
  }
 },
 "nbformat": 4,
 "nbformat_minor": 5
}
